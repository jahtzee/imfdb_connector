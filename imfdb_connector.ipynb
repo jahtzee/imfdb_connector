{
 "cells": [
  {
   "attachments": {},
   "cell_type": "markdown",
   "metadata": {},
   "source": [
    "<h1>IMFDB Connector</h1>\n",
    "<h3>Python script for populating a PostgreSQL database with article data from the Internet Movies and Firearms Database Wiki</h3>"
   ]
  },
  {
   "cell_type": "code",
   "execution_count": 103,
   "metadata": {},
   "outputs": [],
   "source": [
    "# Imports\n",
    "import psycopg2\n",
    "import requests\n",
    "import os"
   ]
  },
  {
   "cell_type": "code",
   "execution_count": 104,
   "metadata": {},
   "outputs": [],
   "source": [
    "# Establish a connection to the database\n",
    "cnx = psycopg2.connect(\n",
    "    host=\"localhost\",\n",
    "    user=\"imfdb\",\n",
    "    password=os.environ.get(\"PG_IMFDB_PASSWORD\"),\n",
    "    database=\"imfdb\"\n",
    ")\n",
    "\n",
    "# Create a cursor object\n",
    "cursor = cnx.cursor()"
   ]
  },
  {
   "cell_type": "code",
   "execution_count": 105,
   "metadata": {},
   "outputs": [],
   "source": [
    "def api_request(url):\n",
    "    # Makes a get request to the specified API endpoint. A JSON response is expected.\n",
    "\n",
    "    # Make a GET request to the IMFDB API endpoint\n",
    "    response = requests.get(url)\n",
    "\n",
    "    # Check if the request was successful\n",
    "    if response.status_code == 200:\n",
    "        # Get the JSON data from the response\n",
    "        return response.json()\n",
    "    else:\n",
    "        # Handle the error\n",
    "        print(f\"ERROR: api_request(): Request failed with status code: {response.status_code}\")\n",
    "        return None"
   ]
  },
  {
   "cell_type": "code",
   "execution_count": 106,
   "metadata": {},
   "outputs": [],
   "source": [
    "def parse_page_by_id(pageid, prop, format):\n",
    "    # Example: parse_page_by_id(\"215875\",\"text\", \"json\") to parse the wiki text of Weird Al Yankovic as json\n",
    "\n",
    "    data = api_request(f\"https://www.imfdb.org/api.php?action=parse&pageid={pageid}&prop={prop}&format={format}\")\n",
    "\n",
    "    # Error Handling\n",
    "    if data is None:\n",
    "        print(\"ERROR: parse_page_by_id(): Data is None!\")\n",
    "        return\n",
    "    \n",
    "    return data"
   ]
  },
  {
   "cell_type": "code",
   "execution_count": 107,
   "metadata": {},
   "outputs": [],
   "source": [
    "def get_page_text_by_id(pageid):\n",
    "    data = parse_page_by_id(pageid, \"text\", \"json\")\n",
    "    return str(data[\"parse\"][\"text\"][\"*\"])"
   ]
  },
  {
   "cell_type": "code",
   "execution_count": 108,
   "metadata": {},
   "outputs": [],
   "source": [
    "def query_categorymembers(cmtitle, format):\n",
    "    # Example: query_categorymembers(\"Category:Actor\", \"json\") to query all actor pages as json.\n",
    "\n",
    "    # Make a GET request to the IMFDB API endpoint\n",
    "    data = api_request(f\"https://www.imfdb.org/api.php?action=query&list=categorymembers&cmtitle={cmtitle}&format={format}\")\n",
    "\n",
    "    # Error Handling\n",
    "    if data is None:\n",
    "        print(\"ERROR: query_categorymembers(): Data is None!\")\n",
    "        return None\n",
    "\n",
    "    #Initialize list\n",
    "    categorymembers = []\n",
    "\n",
    "    # Loop through the first batch of category members\n",
    "    for member in data[\"query\"][\"categorymembers\"]:\n",
    "        print(f\"Adding {member['title']}\")\n",
    "        categorymembers.append(member)\n",
    "\n",
    "    # Continue fetching while there is something to be fetched\n",
    "    # while \"continue\" in data:\n",
    "    #     data = api_request(f\"https://www.imfdb.org/api.php?action=query&list=categorymembers&cmtitle={cmtitle}&format={format}&cmcontinue={data['continue']['cmcontinue']}\")\n",
    "        \n",
    "    #     # Error Handling\n",
    "    #     if data is None:\n",
    "    #         print(f\"ERROR: query_categorymembers(): Data is None in continuation batch {data['continue']['cmcontinue']}\")\n",
    "    #         return None\n",
    "            \n",
    "    #     # Loop through continuation batch:\n",
    "    #     for member in data[\"query\"][\"categorymembers\"]:\n",
    "    #         print(f\"Adding {member['title']}\")\n",
    "    #         categorymembers.append(member)\n",
    "\n",
    "    return categorymembers"
   ]
  },
  {
   "cell_type": "code",
   "execution_count": 109,
   "metadata": {},
   "outputs": [],
   "source": [
    "def populate_actors_table():\n",
    "    actors = query_categorymembers(\"Category:Actor\", \"json\")\n",
    "\n",
    "    for actor in actors:\n",
    "\n",
    "        actorpageid = str(actor['pageid'])\n",
    "        actorurl = f\"https://www.imfdb.org/index.php?curid={actorpageid}\"\n",
    "        actorpagecontent = get_page_text_by_id(actorpageid)\n",
    "        actorname = str(actor['title'])\n",
    "\n",
    "        statement = \"INSERT INTO actors (actorurl, actorpageid, actorpagecontent, actorname) VALUES (%s, %s, %s, %s)\"\n",
    "        cursor.execute(statement, (actorurl, actorpageid, actorpagecontent, actorname))\n",
    "    \n",
    "    cnx.commit()\n"
   ]
  },
  {
   "cell_type": "code",
   "execution_count": 110,
   "metadata": {},
   "outputs": [
    {
     "name": "stdout",
     "output_type": "stream",
     "text": [
      "Adding \"Weird Al\" Yankovic\n",
      "Adding A Martinez\n",
      "Adding A. Russell Andrews\n",
      "Adding A.J. Buckley\n",
      "Adding A.J. Cook\n",
      "Adding A.J. Langer\n",
      "Adding Aaliyah\n",
      "Adding Aamir Khan\n",
      "Adding Aare Laanemets\n",
      "Adding Aarne Üksküla\n"
     ]
    }
   ],
   "source": [
    "### We do stuff here: ###\n",
    "\n",
    "populate_actors_table()\n",
    "\n",
    "#query_categorymembers(\"Category:Actor\", \"json\")\n",
    "#parse_page_by_id(\"215875\", \"text\", \"json\")"
   ]
  },
  {
   "cell_type": "code",
   "execution_count": 111,
   "metadata": {},
   "outputs": [],
   "source": [
    "# Close database connection\n",
    "cursor.close()\n",
    "cnx.close()"
   ]
  }
 ],
 "metadata": {
  "kernelspec": {
   "display_name": "base",
   "language": "python",
   "name": "python3"
  },
  "language_info": {
   "codemirror_mode": {
    "name": "ipython",
    "version": 3
   },
   "file_extension": ".py",
   "mimetype": "text/x-python",
   "name": "python",
   "nbconvert_exporter": "python",
   "pygments_lexer": "ipython3",
   "version": "3.8.8"
  },
  "orig_nbformat": 4,
  "vscode": {
   "interpreter": {
    "hash": "3c7d0a9ef72501f0b5a8ae503bbb8e6cf935eebdbac61688d07a4418e561ffc3"
   }
  }
 },
 "nbformat": 4,
 "nbformat_minor": 2
}
