{
 "cells": [
  {
   "attachments": {},
   "cell_type": "markdown",
   "metadata": {},
   "source": [
    "<h1>IMFDB Connector</h1>\n",
    "<h3>Python script for populating a PostgreSQL database with article data from the Internet Movies and Firearms Database Wiki</h3>"
   ]
  },
  {
   "cell_type": "code",
   "execution_count": 135,
   "metadata": {},
   "outputs": [],
   "source": [
    "# Imports\n",
    "import psycopg2\n",
    "import requests\n",
    "import os\n",
    "import re\n",
    "from bs4 import BeautifulSoup"
   ]
  },
  {
   "cell_type": "code",
   "execution_count": 136,
   "metadata": {},
   "outputs": [],
   "source": [
    "# Establish a connection to the database\n",
    "cnx = psycopg2.connect(\n",
    "    host=\"localhost\",\n",
    "    user=\"imfdb\",\n",
    "    password=os.environ.get(\"PG_IMFDB_PASSWORD\"),\n",
    "    database=\"imfdb\"\n",
    ")\n",
    "\n",
    "# Create a cursor object\n",
    "cursor = cnx.cursor()"
   ]
  },
  {
   "attachments": {},
   "cell_type": "markdown",
   "metadata": {},
   "source": [
    "<h3> MediaWiki API related functions</h3>\n",
    "These are used to query the MW API for article data and populating the Postgres DB with the minimum necessary data for further processing."
   ]
  },
  {
   "cell_type": "code",
   "execution_count": 137,
   "metadata": {},
   "outputs": [],
   "source": [
    "def api_request(url):\n",
    "    # Makes a get request to the specified API endpoint. A JSON response is expected.\n",
    "\n",
    "    # Make a GET request to the IMFDB API endpoint\n",
    "    response = requests.get(url)\n",
    "\n",
    "    # Check if the request was successful\n",
    "    if response.status_code == 200:\n",
    "        # Get the JSON data from the response\n",
    "        return response.json()\n",
    "    else:\n",
    "        # Handle the error\n",
    "        print(f\"ERROR: api_request(): Request failed with status code: {response.status_code}\")\n",
    "        return None"
   ]
  },
  {
   "cell_type": "code",
   "execution_count": 138,
   "metadata": {},
   "outputs": [],
   "source": [
    "def parse_page_by_id(pageid, prop, format):\n",
    "    # Example: parse_page_by_id(\"215875\",\"text\", \"json\") to parse the wiki text of Weird Al Yankovic as json\n",
    "\n",
    "    data = api_request(f\"https://www.imfdb.org/api.php?action=parse&pageid={pageid}&prop={prop}&format={format}\")\n",
    "\n",
    "    # Error Handling\n",
    "    if data is None:\n",
    "        print(\"ERROR: parse_page_by_id(): Data is None!\")\n",
    "        return\n",
    "    \n",
    "    return data"
   ]
  },
  {
   "cell_type": "code",
   "execution_count": 139,
   "metadata": {},
   "outputs": [],
   "source": [
    "def get_page_text_by_id(pageid):\n",
    "    response = requests.get(f\"https://www.imfdb.org/index.php?curid={pageid}\")\n",
    "    return str(response.text)\n",
    "# We don't use the API anymore for this due to issues with the HTML it responds with\n",
    "#def get_page_text_by_id(pageid):\n",
    "#    data = parse_page_by_id(pageid, \"text\", \"json\")\n",
    "#    return str(data[\"parse\"][\"text\"][\"*\"])"
   ]
  },
  {
   "cell_type": "code",
   "execution_count": 140,
   "metadata": {},
   "outputs": [],
   "source": [
    "def query_categorymembers(cmtitle, format):\n",
    "    # Example: query_categorymembers(\"Category:Actor\", \"json\") to query all actor pages as json.\n",
    "\n",
    "    # Make a GET request to the IMFDB API endpoint\n",
    "    data = api_request(f\"https://www.imfdb.org/api.php?action=query&list=categorymembers&cmtitle={cmtitle}&format={format}\")\n",
    "\n",
    "    # Error Handling\n",
    "    if data is None:\n",
    "        print(\"ERROR: query_categorymembers(): Data is None!\")\n",
    "        return None\n",
    "\n",
    "    #Initialize list\n",
    "    categorymembers = []\n",
    "\n",
    "    # Loop through the first batch of category members\n",
    "    for member in data[\"query\"][\"categorymembers\"]:\n",
    "        print(f\"Adding {member['title']}\")\n",
    "        categorymembers.append(member)\n",
    "\n",
    "    # Continue fetching while there is something to be fetched\n",
    "    while \"continue\" in data:\n",
    "        data = api_request(f\"https://www.imfdb.org/api.php?action=query&list=categorymembers&cmtitle={cmtitle}&format={format}&cmcontinue={data['continue']['cmcontinue']}\")\n",
    "        \n",
    "        # Error Handling\n",
    "        if data is None:\n",
    "            print(f\"ERROR: query_categorymembers(): Data is None in continuation batch {data['continue']['cmcontinue']}\")\n",
    "            return None\n",
    "            \n",
    "        # Loop through continuation batch:\n",
    "        for member in data[\"query\"][\"categorymembers\"]:\n",
    "            print(f\"Adding {member['title']}\")\n",
    "            categorymembers.append(member)\n",
    "\n",
    "    return categorymembers"
   ]
  },
  {
   "cell_type": "code",
   "execution_count": 141,
   "metadata": {},
   "outputs": [],
   "source": [
    "def populate_actors_table():\n",
    "    actors = query_categorymembers(\"Category:Actor\", \"json\")\n",
    "\n",
    "    for actor in actors:\n",
    "\n",
    "        actorpageid = str(actor['pageid'])\n",
    "        actorurl = f\"https://www.imfdb.org/index.php?curid={actorpageid}\"\n",
    "        actorpagecontent = get_page_text_by_id(actorpageid)\n",
    "        actorname = str(actor['title'])\n",
    "        if \"Category:\" in actorname:\n",
    "            continue\n",
    "        print(f\"INSERTing: {actorname}, {actorpageid}\")\n",
    "        statement = \"INSERT INTO actors (actorurl, actorpageid, actorpagecontent, actorname) VALUES (%s, %s, %s, %s)\"\n",
    "        cursor.execute(statement, (actorurl, actorpageid, actorpagecontent, actorname))\n",
    "    \n",
    "    cnx.commit()"
   ]
  },
  {
   "cell_type": "code",
   "execution_count": 142,
   "metadata": {},
   "outputs": [],
   "source": [
    "def populate_movies_table():\n",
    "    movies = query_categorymembers(\"Category:Movie\", \"json\")\n",
    "\n",
    "    for movie in movies:\n",
    "\n",
    "        moviepageid = str(movie['pageid'])\n",
    "        movieurl = f\"https://www.imfdb.org/index.php?curid={moviepageid}\"\n",
    "        moviepagecontent = get_page_text_by_id(moviepageid)\n",
    "        movietitle = str(movie['title'])\n",
    "        if \"Category:\" in movietitle:\n",
    "            continue\n",
    "        print(f\"INSERTing: {movietitle}, {moviepageid}\")\n",
    "        statement = \"INSERT INTO movies (movieurl, moviepageid, moviepagecontent, movietitle) VALUES (%s, %s, %s, %s)\"\n",
    "        cursor.execute(statement, (movieurl, moviepageid, moviepagecontent, movietitle))\n",
    "    \n",
    "    cnx.commit()"
   ]
  },
  {
   "cell_type": "code",
   "execution_count": 143,
   "metadata": {},
   "outputs": [],
   "source": [
    "def populate_tvseries_table():\n",
    "    tvseries = query_categorymembers(\"Category:Television\", \"json\")\n",
    "\n",
    "    for series in tvseries:\n",
    "\n",
    "        tvseriespageid = str(series['pageid'])\n",
    "        tvseriesurl = f\"https://www.imfdb.org/index.php?curid={tvseriespageid}\"\n",
    "        tvseriespagecontent = get_page_text_by_id(tvseriespageid)\n",
    "        tvseriestitle = str(series['title'])\n",
    "        if \"Category:\" in tvseriestitle:\n",
    "            continue\n",
    "        print(f\"INSERTing: {tvseriestitle}, {tvseriespageid}\")\n",
    "        statement = \"INSERT INTO tvseries (tvseriesurl, tvseriespageid, tvseriespagecontent, tvseriestitle) VALUES (%s, %s, %s, %s)\"\n",
    "        cursor.execute(statement, (tvseriesurl, tvseriespageid, tvseriespagecontent, tvseriestitle))\n",
    "    \n",
    "    cnx.commit()"
   ]
  },
  {
   "cell_type": "code",
   "execution_count": 144,
   "metadata": {},
   "outputs": [],
   "source": [
    "def populate_firearms_table_minimally():\n",
    "    firearms = query_categorymembers(\"Category:Gun\", \"json\")\n",
    "\n",
    "    for firearm in firearms:\n",
    "\n",
    "        firearmpageid = str(firearm['pageid'])\n",
    "        firearmurl = f\"https://www.imfdb.org/index.php?curid={firearmpageid}\"\n",
    "        firearmpagecontent = get_page_text_by_id(firearmpageid)\n",
    "        firearmtitle = str(firearm['title'])\n",
    "        if \"Category:\" in firearmtitle:\n",
    "            continue\n",
    "        print(f\"INSERTing: {firearmtitle}, {firearmpageid}\")\n",
    "        statement = \"INSERT INTO firearms (firearmurl, firearmpageid, firearmpagecontent, firearmtitle) VALUES (%s, %s, %s, %s)\"\n",
    "        cursor.execute(statement, (firearmurl, firearmpageid, firearmpagecontent, firearmtitle))\n",
    "    \n",
    "    cnx.commit()"
   ]
  },
  {
   "attachments": {},
   "cell_type": "markdown",
   "metadata": {},
   "source": [
    "<h3>Database related functions</h3>\n",
    "Once we have downloaded the necessary article data, we extract useful information from the HTML to fill the rest of our column."
   ]
  },
  {
   "cell_type": "code",
   "execution_count": 145,
   "metadata": {},
   "outputs": [],
   "source": [
    "# Some useful dictionaries #\n",
    "\n",
    "firearms_dict = {\n",
    "    \"firearmid\" : 0,\n",
    "    \"firearmurl\" : 1,\n",
    "    \"parentfirearmid\" : 2,\n",
    "    \"firearmpageid\" : 3,\n",
    "    \"firearmpagecontent\" : 4,\n",
    "    \"specificationid\" : 5,\n",
    "    \"firearmtitle\" : 6,\n",
    "    \"firearmversion\" : 7,\n",
    "    \"isfamily\" : 8,\n",
    "    \"isfictional\" : 9\n",
    "}"
   ]
  },
  {
   "cell_type": "code",
   "execution_count": 146,
   "metadata": {},
   "outputs": [],
   "source": [
    "def update_firearms_isfictional():\n",
    "    statement = \"UPDATE firearms SET isfictional = FALSE WHERE NOT firearmtitle LIKE '(%) -%';\"\n",
    "    cursor.execute(statement)\n",
    "    statement = \"UPDATE firearms SET isfictional = TRUE WHERE firearmtitle LIKE '(%) -%';\"\n",
    "    cursor.execute(statement)\n",
    "    cnx.commit()"
   ]
  },
  {
   "cell_type": "code",
   "execution_count": 147,
   "metadata": {},
   "outputs": [],
   "source": [
    "def is_multi_gun_page(pageid):\n",
    "    soup = soup = BeautifulSoup(get_page_content_from_db(pageid, \"firearms\"), 'html.parser')\n",
    "\n",
    "    h1_tags = soup.find_all(\"h1\")\n",
    "    count = len(h1_tags)\n",
    "\n",
    "    if count > 1:\n",
    "        return True\n",
    "    else:\n",
    "        return False"
   ]
  },
  {
   "cell_type": "code",
   "execution_count": 148,
   "metadata": {},
   "outputs": [],
   "source": [
    "def update_firearms_isfamily():\n",
    "    keyword1 = \"series\"\n",
    "    keyword2 = \"Series\"\n",
    "    statement = \"UPDATE firearms set isfamily = FALSE WHERE NOT (firearmtitle LIKE '%%%s%%' OR firearmtitle LIKE '%%%s%%' OR firearmtitle = 'Air Guns')\" % (keyword1, keyword2)\n",
    "    cursor.execute(statement)\n",
    "    statement = \"UPDATE firearms set isfamily = TRUE WHERE (firearmtitle LIKE '%%%s%%' OR firearmtitle LIKE '%%%s%%' OR firearmtitle = 'Air Guns')\" % (keyword1, keyword2)\n",
    "    cursor.execute(statement)\n",
    "\n",
    "    statement = \"SELECT * FROM firearms\"\n",
    "    cursor.execute(statement)\n",
    "    firearms = cursor.fetchall()\n",
    "    for firearm in firearms:\n",
    "        if (is_multi_gun_page(pageid=firearm[3]) and firearm[8] == False):\n",
    "            statement = \"UPDATE firearms set isfamily = TRUE WHERE firearmid = '%s'\" % (firearm[0])\n",
    "            cursor.execute(statement)\n",
    "\n",
    "    cnx.commit()"
   ]
  },
  {
   "cell_type": "code",
   "execution_count": 149,
   "metadata": {},
   "outputs": [],
   "source": [
    "def get_page_content_from_db(pageid, table):\n",
    "    if table in [\"actors\", \"movies\", \"tvseries\", \"firearms\"]:\n",
    "        singular = table.rstrip(\"s\")\n",
    "        content = \"{}pagecontent\".format(singular)\n",
    "        id = \"{}pageid\".format(singular)\n",
    "    else:\n",
    "        print(\"ERROR: get_page_content_from_db(): {} is not a valid table!\".format(table))\n",
    "        return None\n",
    "\n",
    "    statement = \"SELECT {} from {} where {} = '{}';\".format(content, table, id, pageid)\n",
    "    cursor.execute(statement)\n",
    "    return cursor.fetchone()[0]"
   ]
  },
  {
   "cell_type": "code",
   "execution_count": 150,
   "metadata": {},
   "outputs": [],
   "source": [
    "def get_number_of_specifications(html_content):\n",
    "    soup = BeautifulSoup(html_content, 'html.parser')\n",
    "    \n",
    "    spec_tags = soup.find_all(id=lambda value: value and value.startswith(\"Specifications\"))\n",
    "    spec_count = len(spec_tags)\n",
    "\n",
    "    print(\"The number of h2 tags with 'Specifications' is:\", spec_count)\n",
    "    return spec_count"
   ]
  },
  {
   "cell_type": "code",
   "execution_count": 151,
   "metadata": {},
   "outputs": [],
   "source": [
    "def strip_spec_list_item(item):\n",
    "    index = item.index(\":\")\n",
    "    return item[index + 1:].strip()\n",
    "\n",
    "def get_single_specification(html_content, pageid=None):\n",
    "    # Finds the first specification within any given HTML code\n",
    "\n",
    "    spec_dict = {\n",
    "        \"production_year\":None,\n",
    "        \"production_end_year\":None,\n",
    "        \"type\":None,\n",
    "        \"caliber\":None,\n",
    "        \"capacity\":None,\n",
    "        \"fire_modes\":None\n",
    "    }\n",
    "\n",
    "    soup = BeautifulSoup(html_content, 'html.parser')\n",
    "\n",
    "    # Find all h1 headers in the content\n",
    "    headers = soup.find_all(\"h1\")\n",
    "\n",
    "    if (headers is None or len(headers) == 0):\n",
    "        if pageid is not None:\n",
    "            print(f\"ERROR: get_first_specification(): {pageid} does not contain any headers!\")\n",
    "            return\n",
    "\n",
    "    # Page Title\n",
    "    title = headers[0].text\n",
    "\n",
    "    # Find the first Element with the Specifications id\n",
    "    span = soup.find(id = \"Specifications\")\n",
    "    if span is None:\n",
    "        print(\"ERROR: get_first_specification(): No <span> tag with id = 'Specifications' was found!\")\n",
    "        return\n",
    "\n",
    "    spec_lists = span.parent.find_next_siblings(\"ul\")\n",
    "\n",
    "    # Each spec row is its own unordered list with only a single list item\n",
    "    if spec_lists is None:\n",
    "        print(\"ERROR: get_first_specification(): No <ul> tags were found!\")\n",
    "        return\n",
    "\n",
    "    specifications = [li.text for ul in spec_lists for li in ul.find_all('li')]\n",
    "\n",
    "    if specifications is None:\n",
    "        print(\"ERROR: get_first_specification(): No <li> tags were found!\")\n",
    "        return\n",
    "\n",
    "    # Iterate through the list items and set a dict for each\n",
    "    for item in specifications:\n",
    "        if \"Type:\" in item:\n",
    "            spec_dict[\"type\"] = strip_spec_list_item(item)\n",
    "        elif \"Caliber:\" in item:\n",
    "            spec_dict[\"caliber\"] = strip_spec_list_item(item)\n",
    "        elif \"Capacity:\" in item:\n",
    "            spec_dict[\"capacity\"] = strip_spec_list_item(item)\n",
    "        elif \"Fire Modes:\" in item:\n",
    "            spec_dict[\"fire_modes\"] = strip_spec_list_item(item)\n",
    "    \n",
    "    # Initialize with None so we can check later if a value was extracted from the HTML\n",
    "    production_year = None\n",
    "    production_end_year = None\n",
    "\n",
    "    # Sometimes the production years are contained in an <i> Element within a <p> Element\n",
    "    possible_i_tag = span.parent.find_next_sibling(\"p\").find()\n",
    "    if possible_i_tag is not None:\n",
    "        if span.parent.find_next_sibling(\"p\").find().name == \"i\":\n",
    "            production_years = span.parent.find_next_sibling(\"p\").find(\"i\", string=re.compile(r\"\\(\\d{4}s?.(-|–).(\\d{4}s?|[^\\)|\\s]*)\\s*.*\\)\"))\n",
    "    else:\n",
    "        # Production_years is <p> Element which contains production year numbers\n",
    "        production_years = span.parent.find_next_sibling(\"p\", string=re.compile(r\"\\(\\d{4}s?.(-|–).(\\d{4}s?|[^\\)|\\s]*)\\s*.*\\)\"))\n",
    "\n",
    "    match = re.search(r\"\\((\\d{4})s?\\s*(-\\s|–\\s)(\\d{4}|Present)s?\\s*\\)\", str(production_years))\n",
    "\n",
    "    if match is not None:\n",
    "        production_year = match.group(1).strip()\n",
    "        production_end_year = match.group(3).strip()\n",
    "    if (production_end_year != \"Present\" and production_end_year is not None):\n",
    "        production_end_year = int(production_end_year)\n",
    "    if production_end_year == \"Present\":\n",
    "        production_end_year = 9999\n",
    "\n",
    "    # Add both to the spec dict\n",
    "    spec_dict[\"production_year\"] = production_year\n",
    "    spec_dict[\"production_end_year\"] = production_end_year\n",
    "\n",
    "    if (spec_dict[\"production_year\"] is None or spec_dict[\"production_end_year\"] is None):\n",
    "        print(f\"WARNING: get_first_specification(): {title} is missing production years!\")\n",
    "\n",
    "    return spec_dict"
   ]
  },
  {
   "cell_type": "code",
   "execution_count": 152,
   "metadata": {},
   "outputs": [],
   "source": [
    "def check_for_family_candidates():\n",
    "# Debugging function\n",
    "    statement = \"SELECT * FROM firearms\"\n",
    "    cursor.execute(statement)\n",
    "    firearms = cursor.fetchall()\n",
    "    \n",
    "    with open('candidates.txt', 'w') as writer:\n",
    "        for firearm in firearms:\n",
    "            if (is_multi_gun_page(pageid=firearm[3]) and firearm[8] == False):\n",
    "                writer.write(f\"{firearm[3]}\\n\")"
   ]
  },
  {
   "cell_type": "code",
   "execution_count": 153,
   "metadata": {},
   "outputs": [],
   "source": [
    "def populate_specs_for_singles():\n",
    "    statement = \"SELECT * FROM firearms WHERE isfamily = 'False';\"\n",
    "    cursor.execute(statement)\n",
    "    firearms = cursor.fetchall()\n",
    "\n",
    "    for firearm in firearms:\n",
    "        print(f\"Currently: {firearm[3]}\")\n",
    "        spec = get_single_specification(firearm[4])\n",
    "        print(f\"{firearm[3]}'s Spec: \\n {spec}\")"
   ]
  },
  {
   "cell_type": "code",
   "execution_count": 154,
   "metadata": {},
   "outputs": [],
   "source": [
    "def populate_specifications_table():\n",
    "    return"
   ]
  },
  {
   "attachments": {},
   "cell_type": "markdown",
   "metadata": {},
   "source": [
    "<h3>Corner and edge cases:<h3>"
   ]
  },
  {
   "cell_type": "code",
   "execution_count": 155,
   "metadata": {},
   "outputs": [],
   "source": [
    "# Corner-case handling:\n",
    "\n",
    "# # Starting from the second header, remove all the following HTML including the second h1 itself\n",
    "    #for elem in headers[1].find_next_siblings():\n",
    "    #    elem.extract()\n",
    "    #headers[1].extract()"
   ]
  },
  {
   "attachments": {},
   "cell_type": "markdown",
   "metadata": {},
   "source": [
    "<h3>Main<h3>"
   ]
  },
  {
   "cell_type": "code",
   "execution_count": 156,
   "metadata": {},
   "outputs": [
    {
     "ename": "AttributeError",
     "evalue": "'NoneType' object has no attribute 'find'",
     "output_type": "error",
     "traceback": [
      "\u001b[1;31m---------------------------------------------------------------------------\u001b[0m",
      "\u001b[1;31mAttributeError\u001b[0m                            Traceback (most recent call last)",
      "\u001b[1;32m<ipython-input-156-e46a767efdc3>\u001b[0m in \u001b[0;36m<module>\u001b[1;34m\u001b[0m\n\u001b[0;32m     15\u001b[0m \u001b[1;31m# Debugging get_single_specification:\u001b[0m\u001b[1;33m\u001b[0m\u001b[1;33m\u001b[0m\u001b[1;33m\u001b[0m\u001b[0m\n\u001b[0;32m     16\u001b[0m \u001b[0mdata\u001b[0m \u001b[1;33m=\u001b[0m \u001b[0mget_page_content_from_db\u001b[0m\u001b[1;33m(\u001b[0m\u001b[1;34m\"353349\"\u001b[0m\u001b[1;33m,\u001b[0m \u001b[1;34m\"firearms\"\u001b[0m\u001b[1;33m)\u001b[0m\u001b[1;33m\u001b[0m\u001b[1;33m\u001b[0m\u001b[0m\n\u001b[1;32m---> 17\u001b[1;33m \u001b[0mspec\u001b[0m \u001b[1;33m=\u001b[0m \u001b[0mget_single_specification\u001b[0m\u001b[1;33m(\u001b[0m\u001b[0mdata\u001b[0m\u001b[1;33m,\u001b[0m \u001b[0mpageid\u001b[0m\u001b[1;33m=\u001b[0m\u001b[1;34m\"353349\"\u001b[0m\u001b[1;33m)\u001b[0m\u001b[1;33m\u001b[0m\u001b[1;33m\u001b[0m\u001b[0m\n\u001b[0m\u001b[0;32m     18\u001b[0m \u001b[0mprint\u001b[0m\u001b[1;33m(\u001b[0m\u001b[0mspec\u001b[0m\u001b[1;33m)\u001b[0m\u001b[1;33m\u001b[0m\u001b[1;33m\u001b[0m\u001b[0m\n",
      "\u001b[1;32m<ipython-input-151-15442263ac6e>\u001b[0m in \u001b[0;36mget_single_specification\u001b[1;34m(html_content, pageid)\u001b[0m\n\u001b[0;32m     63\u001b[0m \u001b[1;33m\u001b[0m\u001b[0m\n\u001b[0;32m     64\u001b[0m     \u001b[1;31m# Sometimes the production years are contained in an <i> Element within a <p> Element\u001b[0m\u001b[1;33m\u001b[0m\u001b[1;33m\u001b[0m\u001b[1;33m\u001b[0m\u001b[0m\n\u001b[1;32m---> 65\u001b[1;33m     \u001b[0mpossible_i_tag\u001b[0m \u001b[1;33m=\u001b[0m \u001b[0mspan\u001b[0m\u001b[1;33m.\u001b[0m\u001b[0mparent\u001b[0m\u001b[1;33m.\u001b[0m\u001b[0mfind_next_sibling\u001b[0m\u001b[1;33m(\u001b[0m\u001b[1;34m\"p\"\u001b[0m\u001b[1;33m)\u001b[0m\u001b[1;33m.\u001b[0m\u001b[0mfind\u001b[0m\u001b[1;33m(\u001b[0m\u001b[1;33m)\u001b[0m\u001b[1;33m\u001b[0m\u001b[1;33m\u001b[0m\u001b[0m\n\u001b[0m\u001b[0;32m     66\u001b[0m     \u001b[1;32mif\u001b[0m \u001b[0mpossible_i_tag\u001b[0m \u001b[1;32mis\u001b[0m \u001b[1;32mnot\u001b[0m \u001b[1;32mNone\u001b[0m\u001b[1;33m:\u001b[0m\u001b[1;33m\u001b[0m\u001b[1;33m\u001b[0m\u001b[0m\n\u001b[0;32m     67\u001b[0m         \u001b[1;32mif\u001b[0m \u001b[0mspan\u001b[0m\u001b[1;33m.\u001b[0m\u001b[0mparent\u001b[0m\u001b[1;33m.\u001b[0m\u001b[0mfind_next_sibling\u001b[0m\u001b[1;33m(\u001b[0m\u001b[1;34m\"p\"\u001b[0m\u001b[1;33m)\u001b[0m\u001b[1;33m.\u001b[0m\u001b[0mfind\u001b[0m\u001b[1;33m(\u001b[0m\u001b[1;33m)\u001b[0m\u001b[1;33m.\u001b[0m\u001b[0mname\u001b[0m \u001b[1;33m==\u001b[0m \u001b[1;34m\"i\"\u001b[0m\u001b[1;33m:\u001b[0m\u001b[1;33m\u001b[0m\u001b[1;33m\u001b[0m\u001b[0m\n",
      "\u001b[1;31mAttributeError\u001b[0m: 'NoneType' object has no attribute 'find'"
     ]
    }
   ],
   "source": [
    "### We do stuff here: ###\n",
    "\n",
    "#Populate the database skeleton:\n",
    "#populate_actors_table()\n",
    "#populate_movies_table()\n",
    "#populate_tvseries_table()\n",
    "#populate_firearms_table_minimally()\n",
    "\n",
    "#update_firearms_isfictional()\n",
    "#update_firearms_isfamily()\n",
    "\n",
    "#populate_specifications_table()\n",
    "#populate_specs_for_singles()\n",
    "\n",
    "# Debugging get_single_specification:\n",
    "data = get_page_content_from_db(\"353349\", \"firearms\")\n",
    "spec = get_single_specification(data, pageid=\"353349\")\n",
    "print(spec)\n"
   ]
  },
  {
   "cell_type": "code",
   "execution_count": null,
   "metadata": {},
   "outputs": [],
   "source": [
    "# Close database connection\n",
    "cursor.close()\n",
    "cnx.close()"
   ]
  }
 ],
 "metadata": {
  "kernelspec": {
   "display_name": "base",
   "language": "python",
   "name": "python3"
  },
  "language_info": {
   "codemirror_mode": {
    "name": "ipython",
    "version": 3
   },
   "file_extension": ".py",
   "mimetype": "text/x-python",
   "name": "python",
   "nbconvert_exporter": "python",
   "pygments_lexer": "ipython3",
   "version": "3.8.8"
  },
  "orig_nbformat": 4,
  "vscode": {
   "interpreter": {
    "hash": "3c7d0a9ef72501f0b5a8ae503bbb8e6cf935eebdbac61688d07a4418e561ffc3"
   }
  }
 },
 "nbformat": 4,
 "nbformat_minor": 2
}
